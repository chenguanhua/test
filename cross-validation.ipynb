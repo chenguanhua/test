{
 "cells": [
  {
   "cell_type": "code",
   "execution_count": 5,
   "metadata": {
    "collapsed": true
   },
   "outputs": [],
   "source": [
    "from sklearn.datasets import load_digits\n",
    "import numpy as np\n",
    "import matplotlib.pyplot as plt\n",
    "%matplotlib inline"
   ]
  },
  {
   "cell_type": "code",
   "execution_count": 4,
   "metadata": {
    "collapsed": false
   },
   "outputs": [
    {
     "data": {
      "text/plain": [
       "(1797,)"
      ]
     },
     "execution_count": 4,
     "metadata": {},
     "output_type": "execute_result"
    }
   ],
   "source": [
    "data=load_digits()\n",
    "X=data['data']\n",
    "y=data['target']\n",
    "\n",
    "y.shape"
   ]
  },
  {
   "cell_type": "code",
   "execution_count": 42,
   "metadata": {
    "collapsed": true
   },
   "outputs": [],
   "source": [
    "from sklearn.model_selection import train_test_split\n",
    "\n",
    "X_train,X_test,y_train,y_test=train_test_split(X,y,random_state=0)"
   ]
  },
  {
   "cell_type": "code",
   "execution_count": 43,
   "metadata": {
    "collapsed": false
   },
   "outputs": [
    {
     "data": {
      "text/plain": [
       "Text(0.5,1,'7')"
      ]
     },
     "execution_count": 43,
     "metadata": {},
     "output_type": "execute_result"
    },
    {
     "data": {
      "image/png": "[encoded data removed]",
      "text/plain": [
       "<Figure size 432x288 with 1 Axes>"
      ]
     },
     "metadata": {},
     "output_type": "display_data"
    }
   ],
   "source": [
    "idx=3\n",
    "plt.imshow(X_train[idx].reshape(8,8),cmap=plt.cm.binary_r)\n",
    "plt.title(y_train[idx])"
   ]
  },
  {
   "cell_type": "code",
   "execution_count": 61,
   "metadata": {
    "collapsed": false
   },
   "outputs": [
    {
     "name": "stderr",
     "output_type": "stream",
     "text": [
      "C:\\Software\\Anaconda\\lib\\site-packages\\sklearn\\linear_model\\logistic.py:433: FutureWarning: Default solver will be changed to 'lbfgs' in 0.22. Specify a solver to silence this warning.\n",
      "  FutureWarning)\n",
      "C:\\Software\\Anaconda\\lib\\site-packages\\sklearn\\linear_model\\logistic.py:460: FutureWarning: Default multi_class will be changed to 'auto' in 0.22. Specify the multi_class option to silence this warning.\n",
      "  \"this warning.\", FutureWarning)\n"
     ]
    },
    {
     "data": {
      "text/plain": [
       "LogisticRegression(C=1.0, class_weight=None, dual=False, fit_intercept=True,\n",
       "          intercept_scaling=1, max_iter=100, multi_class='warn',\n",
       "          n_jobs=None, penalty='l2', random_state=None, solver='warn',\n",
       "          tol=0.0001, verbose=0, warm_start=False)"
      ]
     },
     "execution_count": 61,
     "metadata": {},
     "output_type": "execute_result"
    }
   ],
   "source": [
    "from sklearn.linear_model import LogisticRegression\n",
    "\n",
    "logit=LogisticRegression()\n",
    "logit.fit(X_train,y_train)"
   ]
  },
  {
   "cell_type": "code",
   "execution_count": 62,
   "metadata": {
    "collapsed": false
   },
   "outputs": [
    {
     "data": {
      "text/plain": [
       "0.9533333333333334"
      ]
     },
     "execution_count": 62,
     "metadata": {},
     "output_type": "execute_result"
    }
   ],
   "source": [
    "pred=logit.predict(X_test)\n",
    "np.mean(pred==y_test)"
   ]
  },
  {
   "cell_type": "code",
   "execution_count": 68,
   "metadata": {
    "collapsed": false
   },
   "outputs": [
    {
     "name": "stderr",
     "output_type": "stream",
     "text": [
      "C:\\Software\\Anaconda\\lib\\site-packages\\sklearn\\linear_model\\logistic.py:433: FutureWarning: Default solver will be changed to 'lbfgs' in 0.22. Specify a solver to silence this warning.\n",
      "  FutureWarning)\n",
      "C:\\Software\\Anaconda\\lib\\site-packages\\sklearn\\linear_model\\logistic.py:460: FutureWarning: Default multi_class will be changed to 'auto' in 0.22. Specify the multi_class option to silence this warning.\n",
      "  \"this warning.\", FutureWarning)\n",
      "C:\\Software\\Anaconda\\lib\\site-packages\\sklearn\\linear_model\\logistic.py:433: FutureWarning: Default solver will be changed to 'lbfgs' in 0.22. Specify a solver to silence this warning.\n",
      "  FutureWarning)\n",
      "C:\\Software\\Anaconda\\lib\\site-packages\\sklearn\\linear_model\\logistic.py:460: FutureWarning: Default multi_class will be changed to 'auto' in 0.22. Specify the multi_class option to silence this warning.\n",
      "  \"this warning.\", FutureWarning)\n",
      "C:\\Software\\Anaconda\\lib\\site-packages\\sklearn\\linear_model\\logistic.py:433: FutureWarning: Default solver will be changed to 'lbfgs' in 0.22. Specify a solver to silence this warning.\n",
      "  FutureWarning)\n",
      "C:\\Software\\Anaconda\\lib\\site-packages\\sklearn\\linear_model\\logistic.py:460: FutureWarning: Default multi_class will be changed to 'auto' in 0.22. Specify the multi_class option to silence this warning.\n",
      "  \"this warning.\", FutureWarning)\n",
      "C:\\Software\\Anaconda\\lib\\site-packages\\sklearn\\linear_model\\logistic.py:433: FutureWarning: Default solver will be changed to 'lbfgs' in 0.22. Specify a solver to silence this warning.\n",
      "  FutureWarning)\n",
      "C:\\Software\\Anaconda\\lib\\site-packages\\sklearn\\linear_model\\logistic.py:460: FutureWarning: Default multi_class will be changed to 'auto' in 0.22. Specify the multi_class option to silence this warning.\n",
      "  \"this warning.\", FutureWarning)\n",
      "C:\\Software\\Anaconda\\lib\\site-packages\\sklearn\\linear_model\\logistic.py:433: FutureWarning: Default solver will be changed to 'lbfgs' in 0.22. Specify a solver to silence this warning.\n",
      "  FutureWarning)\n",
      "C:\\Software\\Anaconda\\lib\\site-packages\\sklearn\\linear_model\\logistic.py:460: FutureWarning: Default multi_class will be changed to 'auto' in 0.22. Specify the multi_class option to silence this warning.\n",
      "  \"this warning.\", FutureWarning)\n",
      "C:\\Software\\Anaconda\\lib\\site-packages\\sklearn\\linear_model\\logistic.py:433: FutureWarning: Default solver will be changed to 'lbfgs' in 0.22. Specify a solver to silence this warning.\n",
      "  FutureWarning)\n",
      "C:\\Software\\Anaconda\\lib\\site-packages\\sklearn\\linear_model\\logistic.py:460: FutureWarning: Default multi_class will be changed to 'auto' in 0.22. Specify the multi_class option to silence this warning.\n",
      "  \"this warning.\", FutureWarning)\n",
      "C:\\Software\\Anaconda\\lib\\site-packages\\sklearn\\linear_model\\logistic.py:433: FutureWarning: Default solver will be changed to 'lbfgs' in 0.22. Specify a solver to silence this warning.\n",
      "  FutureWarning)\n",
      "C:\\Software\\Anaconda\\lib\\site-packages\\sklearn\\linear_model\\logistic.py:460: FutureWarning: Default multi_class will be changed to 'auto' in 0.22. Specify the multi_class option to silence this warning.\n",
      "  \"this warning.\", FutureWarning)\n",
      "C:\\Software\\Anaconda\\lib\\site-packages\\sklearn\\linear_model\\logistic.py:433: FutureWarning: Default solver will be changed to 'lbfgs' in 0.22. Specify a solver to silence this warning.\n",
      "  FutureWarning)\n",
      "C:\\Software\\Anaconda\\lib\\site-packages\\sklearn\\linear_model\\logistic.py:460: FutureWarning: Default multi_class will be changed to 'auto' in 0.22. Specify the multi_class option to silence this warning.\n",
      "  \"this warning.\", FutureWarning)\n",
      "C:\\Software\\Anaconda\\lib\\site-packages\\sklearn\\linear_model\\logistic.py:433: FutureWarning: Default solver will be changed to 'lbfgs' in 0.22. Specify a solver to silence this warning.\n",
      "  FutureWarning)\n",
      "C:\\Software\\Anaconda\\lib\\site-packages\\sklearn\\linear_model\\logistic.py:460: FutureWarning: Default multi_class will be changed to 'auto' in 0.22. Specify the multi_class option to silence this warning.\n",
      "  \"this warning.\", FutureWarning)\n",
      "C:\\Software\\Anaconda\\lib\\site-packages\\sklearn\\linear_model\\logistic.py:433: FutureWarning: Default solver will be changed to 'lbfgs' in 0.22. Specify a solver to silence this warning.\n",
      "  FutureWarning)\n",
      "C:\\Software\\Anaconda\\lib\\site-packages\\sklearn\\linear_model\\logistic.py:460: FutureWarning: Default multi_class will be changed to 'auto' in 0.22. Specify the multi_class option to silence this warning.\n",
      "  \"this warning.\", FutureWarning)\n"
     ]
    },
    {
     "data": {
      "text/plain": [
       "(array([0.90810811, 0.95081967, 0.89502762, 0.91111111, 0.94972067,\n",
       "        0.96648045, 0.97765363, 0.9494382 , 0.85875706, 0.94318182]),\n",
       " 0.8587570621468926,\n",
       " 0.9310298346839012,\n",
       " 0.9776536312849162)"
      ]
     },
     "execution_count": 68,
     "metadata": {},
     "output_type": "execute_result"
    }
   ],
   "source": [
    "from sklearn.model_selection import cross_val_score\n",
    "scores1 = cross_val_score(logit, X, y, cv=10)\n",
    "scores1,np.min(scores1),np.mean(scores1),np.max(scores1)"
   ]
  },
  {
   "cell_type": "code",
   "execution_count": 87,
   "metadata": {
    "collapsed": false
   },
   "outputs": [
    {
     "data": {
      "text/plain": [
       "MLPClassifier(activation='relu', alpha=0.0001, batch_size='auto', beta_1=0.9,\n",
       "       beta_2=0.999, early_stopping=False, epsilon=1e-08,\n",
       "       hidden_layer_sizes=(128, 64), learning_rate='constant',\n",
       "       learning_rate_init=0.001, max_iter=200, momentum=0.9,\n",
       "       n_iter_no_change=10, nesterovs_momentum=True, power_t=0.5,\n",
       "       random_state=None, shuffle=True, solver='adam', tol=0.0001,\n",
       "       validation_fraction=0.1, verbose=False, warm_start=False)"
      ]
     },
     "execution_count": 87,
     "metadata": {},
     "output_type": "execute_result"
    }
   ],
   "source": [
    "from sklearn.neural_network import MLPClassifier\n",
    "\n",
    "mlp=MLPClassifier((128,64))\n",
    "mlp.fit(X_train,y_train)"
   ]
  },
  {
   "cell_type": "code",
   "execution_count": 88,
   "metadata": {
    "collapsed": false
   },
   "outputs": [
    {
     "data": {
      "text/plain": [
       "0.9755555555555555"
      ]
     },
     "execution_count": 88,
     "metadata": {},
     "output_type": "execute_result"
    }
   ],
   "source": [
    "pred=mlp.predict(X_test)\n",
    "np.mean(pred==y_test)"
   ]
  },
  {
   "cell_type": "code",
   "execution_count": 89,
   "metadata": {
    "collapsed": false
   },
   "outputs": [
    {
     "data": {
      "text/plain": [
       "(array([0.93513514, 0.98907104, 0.90607735, 0.96666667, 0.95530726,\n",
       "        0.98882682, 0.98882682, 0.97752809, 0.93220339, 0.95454545]),\n",
       " 0.9060773480662984,\n",
       " 0.9594188016237819,\n",
       " 0.9890710382513661)"
      ]
     },
     "execution_count": 89,
     "metadata": {},
     "output_type": "execute_result"
    }
   ],
   "source": [
    "scores2 = cross_val_score(mlp, X, y, cv=10)\n",
    "scores2,np.min(scores2),np.mean(scores2),np.max(scores2)"
   ]
  },
  {
   "cell_type": "code",
   "execution_count": 90,
   "metadata": {
    "collapsed": false
   },
   "outputs": [
    {
     "data": {
      "text/plain": [
       "(array([1., 0., 0., 2., 0., 2., 0., 1., 1., 3.]),\n",
       " array([0.90607735, 0.91437672, 0.92267609, 0.93097546, 0.93927482,\n",
       "        0.94757419, 0.95587356, 0.96417293, 0.9724723 , 0.98077167,\n",
       "        0.98907104]),\n",
       " <a list of 10 Patch objects>)"
      ]
     },
     "execution_count": 90,
     "metadata": {},
     "output_type": "execute_result"
    },
    {
     "data": {
      "image/png": "[encoded data removed]",
      "text/plain": [
       "<Figure size 432x288 with 1 Axes>"
      ]
     },
     "metadata": {},
     "output_type": "display_data"
    }
   ],
   "source": [
    "plt.hist(scores1)\n",
    "plt.hist(scores2)"
   ]
  },
  {
   "cell_type": "code",
   "execution_count": 91,
   "metadata": {
    "collapsed": false
   },
   "outputs": [
    {
     "data": {
      "text/plain": [
       "[array([-7.95661292e-02,  1.12755751e-01,  8.40306051e-02, -1.58739316e-01,\n",
       "         9.88892940e-02,  1.72092831e-01,  1.18740378e-01,  4.98091621e-02,\n",
       "         3.88911637e-02, -4.87070900e-02, -1.30262375e-01, -1.66479439e-02,\n",
       "         1.42249118e-01,  1.17769845e-01, -6.86568890e-05, -3.43991040e-02,\n",
       "        -7.91148643e-02, -3.48414437e-02, -8.27570475e-02, -1.40297773e-01,\n",
       "         3.83251027e-02,  1.46232291e-01, -2.30980801e-02, -1.58497187e-01,\n",
       "        -3.13017528e-02,  1.05962106e-01, -5.00347577e-02, -7.76572197e-02,\n",
       "        -3.90598493e-02,  1.13578613e-01,  4.37843383e-02, -8.96359354e-02,\n",
       "         1.55748084e-02,  3.48200384e-02, -2.71903744e-02,  9.00532820e-02,\n",
       "        -7.16551596e-02,  8.52622524e-02, -3.28872476e-02, -5.09960179e-02,\n",
       "        -5.51155904e-02, -1.04868732e-01, -1.40653083e-01, -1.98080826e-03,\n",
       "         1.22580978e-01, -8.90870660e-02, -1.36329666e-01, -1.11630987e-01,\n",
       "        -7.26574401e-02,  1.29670061e-02,  2.06907926e-01,  1.37290313e-02,\n",
       "         8.60106651e-02,  1.00504327e-02, -1.06788929e-01, -6.03435665e-02,\n",
       "         8.55997575e-02, -8.11184209e-03, -1.88833857e-01,  5.52865259e-02,\n",
       "         1.58069713e-01,  9.79041449e-02,  1.21666417e-01,  1.78637787e-01,\n",
       "         1.47112739e-01, -9.87070572e-03,  6.51390937e-02,  5.97089859e-02,\n",
       "         1.85885643e-01,  1.23400858e-01,  1.69966941e-02,  1.53067964e-01,\n",
       "        -1.38358371e-01, -6.24778523e-02, -7.14192071e-02,  2.67376213e-02,\n",
       "         9.63422663e-02, -4.13153359e-02,  1.42910650e-01,  1.33382098e-01,\n",
       "        -1.33602037e-01,  1.28203362e-01,  1.13858878e-01, -6.56739634e-02,\n",
       "        -1.23719058e-01,  1.29150563e-01,  1.85303069e-02,  1.48941981e-01,\n",
       "         4.66113235e-02,  9.00712008e-02, -1.36556626e-01,  2.19469400e-02,\n",
       "        -1.46053379e-01, -1.05955370e-01,  1.14285879e-01,  5.87142315e-02,\n",
       "        -1.34497015e-01, -1.98603124e-03, -8.96673559e-03,  6.99006321e-02,\n",
       "         1.54439850e-01,  1.68533729e-01, -2.99923096e-02,  8.96783091e-03,\n",
       "        -2.74314386e-02,  8.13557160e-02, -4.57045329e-02,  8.57281869e-02,\n",
       "        -7.66229751e-02,  8.10255956e-02,  1.60758595e-01, -3.96084001e-02,\n",
       "        -6.19678342e-02, -6.39430407e-02, -1.67048365e-01, -7.64137524e-02,\n",
       "         5.33706263e-03, -4.41997142e-02, -7.03979453e-02, -4.12782746e-02,\n",
       "        -1.63168146e-01, -1.20942169e-01, -1.79430560e-01, -8.06254033e-02,\n",
       "        -1.22162164e-01, -6.79915395e-02, -9.23919230e-02, -1.37041655e-01]),\n",
       " array([ 0.17224048, -0.05570112,  0.0331488 , -0.10253294,  0.11567933,\n",
       "         0.14131907,  0.10505298,  0.08577714, -0.02770274,  0.01261861,\n",
       "        -0.13378425, -0.18535971,  0.01013544,  0.06884768, -0.1563244 ,\n",
       "        -0.05634644,  0.07917227, -0.08369254,  0.0888426 , -0.02883837,\n",
       "         0.05493788, -0.14743402,  0.06601471, -0.03273324,  0.02586799,\n",
       "        -0.04690542,  0.13747701,  0.02066432, -0.08005393, -0.17163669,\n",
       "        -0.00976135, -0.04235084,  0.12044565, -0.0883066 ,  0.13095895,\n",
       "         0.02001121, -0.16617613, -0.02868731,  0.05811205,  0.05543561,\n",
       "         0.12661058, -0.03260093,  0.1631187 ,  0.05458634, -0.16687921,\n",
       "        -0.0013833 , -0.15336559,  0.02066946,  0.13660274, -0.16223176,\n",
       "        -0.15455751, -0.01459872,  0.10439484, -0.1297873 , -0.02824632,\n",
       "         0.14139159,  0.04086382, -0.14627185, -0.04229011, -0.07750089,\n",
       "        -0.00682144,  0.18338154,  0.02592468, -0.10569744]),\n",
       " array([ 0.05335268, -0.27562109, -0.2850012 , -0.26917987,  0.14358971,\n",
       "        -0.06689846, -0.22339843,  0.27163504, -0.25359127, -0.04279858])]"
      ]
     },
     "execution_count": 91,
     "metadata": {},
     "output_type": "execute_result"
    }
   ],
   "source": []
  },
  {
   "cell_type": "code",
   "execution_count": 94,
   "metadata": {
    "collapsed": false
   },
   "outputs": [
    {
     "name": "stdout",
     "output_type": "stream",
     "text": [
      "(64, 128)\n",
      "(128, 64)\n",
      "(64, 10)\n"
     ]
    }
   ],
   "source": [
    "for i in range(len(mlp.coefs_)):\n",
    "    print(mlp.coefs_[i].shape)"
   ]
  },
  {
   "cell_type": "code",
   "execution_count": 151,
   "metadata": {
    "collapsed": false
   },
   "outputs": [
    {
     "data": {
      "text/plain": [
       "(1, 64)"
      ]
     },
     "execution_count": 151,
     "metadata": {},
     "output_type": "execute_result"
    }
   ],
   "source": [
    "layers=(128,64)\n",
    "\n",
    "input=X_test[0].reshape(1,-1)\n",
    "input.shape"
   ]
  },
  {
   "cell_type": "code",
   "execution_count": 152,
   "metadata": {
    "collapsed": false
   },
   "outputs": [
    {
     "data": {
      "text/plain": [
       "(128,)"
      ]
     },
     "execution_count": 152,
     "metadata": {},
     "output_type": "execute_result"
    }
   ],
   "source": [
    "mlp.intercepts_[0].shape"
   ]
  },
  {
   "cell_type": "code",
   "execution_count": 153,
   "metadata": {
    "collapsed": true
   },
   "outputs": [],
   "source": [
    "#input=X_test"
   ]
  },
  {
   "cell_type": "code",
   "execution_count": 154,
   "metadata": {
    "collapsed": true
   },
   "outputs": [],
   "source": [
    "def relu(x):\n",
    "    return np.maximum(x, 0)"
   ]
  },
  {
   "cell_type": "code",
   "execution_count": 155,
   "metadata": {
    "collapsed": false
   },
   "outputs": [],
   "source": [
    "Z1=np.dot(input,mlp.coefs_[0])+mlp.intercepts_[0]\n",
    "A1=relu(Z1)"
   ]
  },
  {
   "cell_type": "code",
   "execution_count": 156,
   "metadata": {
    "collapsed": false
   },
   "outputs": [],
   "source": [
    "Z2=np.dot(A1,mlp.coefs_[1])+mlp.intercepts_[1]\n",
    "A2=relu(Z2)"
   ]
  },
  {
   "cell_type": "code",
   "execution_count": 157,
   "metadata": {
    "collapsed": false
   },
   "outputs": [
    {
     "data": {
      "text/plain": [
       "array([[ 6.80615418,  2.20648678, 23.70420472,  5.14225304, -6.60460584,\n",
       "         0.88132221, -4.64726623,  3.43183728, -1.94081065,  0.29256962]])"
      ]
     },
     "execution_count": 157,
     "metadata": {},
     "output_type": "execute_result"
    }
   ],
   "source": [
    "Z3=np.dot(A2,mlp.coefs_[2])+mlp.intercepts_[2]\n",
    "Z3"
   ]
  },
  {
   "cell_type": "code",
   "execution_count": 158,
   "metadata": {
    "collapsed": false
   },
   "outputs": [
    {
     "data": {
      "text/plain": [
       "array([[4.58426664e-08, 4.60956242e-10, 9.99999943e-01, 8.68253988e-09,\n",
       "        6.87148806e-14, 1.22503371e-10, 4.86533318e-13, 1.56972170e-09,\n",
       "        7.28637150e-12, 6.79917215e-11]])"
      ]
     },
     "execution_count": 158,
     "metadata": {},
     "output_type": "execute_result"
    }
   ],
   "source": [
    "A3=np.exp(Z3)/np.sum(np.exp(Z3))\n",
    "A3"
   ]
  },
  {
   "cell_type": "code",
   "execution_count": 159,
   "metadata": {
    "collapsed": false
   },
   "outputs": [
    {
     "data": {
      "text/plain": [
       "array([2], dtype=int64)"
      ]
     },
     "execution_count": 159,
     "metadata": {},
     "output_type": "execute_result"
    }
   ],
   "source": [
    "np.argmax(A3,axis=1)"
   ]
  },
  {
   "cell_type": "code",
   "execution_count": 160,
   "metadata": {
    "collapsed": false
   },
   "outputs": [
    {
     "data": {
      "text/plain": [
       "Text(0.5,1,'2')"
      ]
     },
     "execution_count": 160,
     "metadata": {},
     "output_type": "execute_result"
    },
    {
     "data": {
      "image/png": "[encoded data removed]",
      "text/plain": [
       "<Figure size 432x288 with 1 Axes>"
      ]
     },
     "metadata": {},
     "output_type": "display_data"
    }
   ],
   "source": [
    "plt.imshow(input.reshape(8,8),cmap=plt.cm.binary_r)\n",
    "plt.title(y_test[0])"
   ]
  },
  {
   "cell_type": "code",
   "execution_count": 161,
   "metadata": {
    "collapsed": false
   },
   "outputs": [
    {
     "data": {
      "text/plain": [
       "array([[4.58426664e-08, 4.60956242e-10, 9.99999943e-01, 8.68253988e-09,\n",
       "        6.87148806e-14, 1.22503371e-10, 4.86533318e-13, 1.56972170e-09,\n",
       "        7.28637150e-12, 6.79917215e-11]])"
      ]
     },
     "execution_count": 161,
     "metadata": {},
     "output_type": "execute_result"
    }
   ],
   "source": [
    "mlp.predict_proba(input)"
   ]
  },
  {
   "cell_type": "code",
   "execution_count": null,
   "metadata": {
    "collapsed": true
   },
   "outputs": [],
   "source": []
  }
 ],
 "metadata": {
  "kernelspec": {
   "display_name": "Python 3",
   "language": "python",
   "name": "python3"
  },
  "language_info": {
   "codemirror_mode": {
    "name": "ipython",
    "version": 3
   },
   "file_extension": ".py",
   "mimetype": "text/x-python",
   "name": "python",
   "nbconvert_exporter": "python",
   "pygments_lexer": "ipython3",
   "version": "3.6.6"
  }
 },
 "nbformat": 4,
 "nbformat_minor": 2
}
